{
 "cells": [
  {
   "cell_type": "markdown",
   "metadata": {},
   "source": [
    "### Step 1: Write a function that can print the board.set up your board as a list , where each index 1-9 corresponds with a number on number pad, so you get a 3 by 3 board representation"
   ]
  },
  {
   "cell_type": "code",
   "execution_count": 1,
   "metadata": {},
   "outputs": [],
   "source": [
    "from IPython.display import clear_output\n",
    "\n",
    "def display_board(board):\n",
    "    clear_output()\n",
    "    print(board[7]+ ' | ' +board[8]+' | '+ board[9])\n",
    "    print(\"---------\")\n",
    "    print(board[4]+ ' | ' +board[5]+' | ' +board[6])\n",
    "    print(\"---------\")\n",
    "    print(board[1]+ ' | ' +board[2]+' | '+ board[3])"
   ]
  },
  {
   "cell_type": "code",
   "execution_count": 2,
   "metadata": {},
   "outputs": [
    {
     "name": "stdout",
     "output_type": "stream",
     "text": [
      " |  | \n",
      "---------\n",
      " |  | \n",
      "---------\n",
      " |  | \n"
     ]
    }
   ],
   "source": [
    "test_board=['']*10\n",
    "display_board(test_board)"
   ]
  },
  {
   "cell_type": "markdown",
   "metadata": {},
   "source": [
    "Run a test runboard"
   ]
  },
  {
   "cell_type": "code",
   "execution_count": 3,
   "metadata": {},
   "outputs": [
    {
     "name": "stdout",
     "output_type": "stream",
     "text": [
      "X | O | X\n",
      "---------\n",
      "O | X | O\n",
      "---------\n",
      "X | O | X\n"
     ]
    }
   ],
   "source": [
    "test_board=['*','X','O','X','O','X','O','X','O','X']\n",
    "display_board(test_board)"
   ]
  },
  {
   "cell_type": "markdown",
   "metadata": {},
   "source": [
    "### Step2: write a function that can take player input and assign marker 'X' or 'O'.\n",
    "### think about while loop to continully asking until you get a correct answers"
   ]
  },
  {
   "cell_type": "code",
   "execution_count": 4,
   "metadata": {},
   "outputs": [],
   "source": [
    "def player_input():\n",
    "    '''\n",
    "    OUTPUT = (Player 1 marker, Player 2 marker)\n",
    "    '''\n",
    "    \n",
    "    marker=''\n",
    "    \n",
    "    while marker !='X' and marker !='O':\n",
    "        marker = input('Player 1: choose between X & O:').upper()\n",
    "        \n",
    "    if marker == 'X':\n",
    "        return ('X','O')\n",
    "    else:\n",
    "        return ('O','X')\n",
    "    "
   ]
  },
  {
   "cell_type": "code",
   "execution_count": 5,
   "metadata": {},
   "outputs": [
    {
     "name": "stdout",
     "output_type": "stream",
     "text": [
      "Player 1: choose between X & O:\n",
      "Player 1: choose between X & O:X\n"
     ]
    }
   ],
   "source": [
    "Player_1_marker, Player_2_marker= player_input()"
   ]
  },
  {
   "cell_type": "code",
   "execution_count": 6,
   "metadata": {},
   "outputs": [
    {
     "data": {
      "text/plain": [
       "'O'"
      ]
     },
     "execution_count": 6,
     "metadata": {},
     "output_type": "execute_result"
    }
   ],
   "source": [
    "Player_2_marker"
   ]
  },
  {
   "cell_type": "code",
   "execution_count": 7,
   "metadata": {},
   "outputs": [
    {
     "data": {
      "text/plain": [
       "'X'"
      ]
     },
     "execution_count": 7,
     "metadata": {},
     "output_type": "execute_result"
    }
   ],
   "source": [
    "Player_1_marker"
   ]
  },
  {
   "cell_type": "markdown",
   "metadata": {},
   "source": [
    "### Step3: Write a function that takes in a board list object, a marker ('X' & 'O'),and a desired position number(1-9) and assign it to the board"
   ]
  },
  {
   "cell_type": "code",
   "execution_count": 8,
   "metadata": {},
   "outputs": [],
   "source": [
    "def place_marker(board, marker, position):\n",
    "    board[position] = marker\n",
    "    "
   ]
  },
  {
   "cell_type": "markdown",
   "metadata": {},
   "source": [
    "#### Test step 3: run a place marker functionusing test parameters and display the modified board"
   ]
  },
  {
   "cell_type": "code",
   "execution_count": 9,
   "metadata": {},
   "outputs": [],
   "source": [
    "test_board=['*','X','O','X','O','X','O','X','O','X']"
   ]
  },
  {
   "cell_type": "code",
   "execution_count": 10,
   "metadata": {},
   "outputs": [
    {
     "name": "stdout",
     "output_type": "stream",
     "text": [
      "X | $ | X\n",
      "---------\n",
      "O | X | O\n",
      "---------\n",
      "X | O | X\n"
     ]
    }
   ],
   "source": [
    "place_marker(test_board,'$',8)\n",
    "display_board(test_board)"
   ]
  },
  {
   "cell_type": "markdown",
   "metadata": {},
   "source": [
    "### Step4: write a function that takes in board list and mark (X or O) and then checks to see if hat mark has won"
   ]
  },
  {
   "cell_type": "code",
   "execution_count": 11,
   "metadata": {},
   "outputs": [],
   "source": [
    "def win_check(board, mark):\n",
    "    \n",
    "    # we have to define what is it mean to win tic tac toe\n",
    "    # that is we need to check the posible combination\n",
    "    # need to check ALL ROWS and check if they share same marker\n",
    "    \n",
    "    return ((board[1]== board[2]== board[3]==mark) or      # Across row 1\n",
    "    (board[4]== board[5]== board[6]==mark) or              # Across row 2\n",
    "    (board[7]== board[8]== board[9]==mark) or              # Across row 3\n",
    "    (board[1]== board[4]== board[7]==mark) or              # Across column 1\n",
    "    (board[2]== board[5]== board[8]==mark) or              # Across column 2\n",
    "    (board[3]== board[6]== board[9]==mark) or              # Across column 3\n",
    "    (board[1]== board[5]== board[9]==mark) or              # Across diagonal 1\n",
    "    (board[3]== board[5]== board[7]==mark))                # Across diagonal 2\n",
    "           \n",
    "    "
   ]
  },
  {
   "cell_type": "markdown",
   "metadata": {},
   "source": [
    "#### Test step 4: run this on test board- it should return True"
   ]
  },
  {
   "cell_type": "code",
   "execution_count": 12,
   "metadata": {},
   "outputs": [
    {
     "name": "stdout",
     "output_type": "stream",
     "text": [
      "X | $ | X\n",
      "---------\n",
      "O | X | O\n",
      "---------\n",
      "X | O | X\n"
     ]
    },
    {
     "data": {
      "text/plain": [
       "True"
      ]
     },
     "execution_count": 12,
     "metadata": {},
     "output_type": "execute_result"
    }
   ],
   "source": [
    "display_board(test_board)\n",
    "win_check(test_board,'X')"
   ]
  },
  {
   "cell_type": "markdown",
   "metadata": {},
   "source": [
    "### Step 5: Write a function that uses the random module to randomly decide which player goes  first . you may want to lookup random.randint( ) Returns a string which player goes first"
   ]
  },
  {
   "cell_type": "code",
   "execution_count": 13,
   "metadata": {},
   "outputs": [],
   "source": [
    "import random\n",
    "\n",
    "def choose_first():\n",
    "    flip=random.randint(0,1)\n",
    "    \n",
    "    if flip==0:\n",
    "        return 'Player 1'\n",
    "    else:\n",
    "        return 'Player 2'"
   ]
  },
  {
   "cell_type": "code",
   "execution_count": 14,
   "metadata": {},
   "outputs": [
    {
     "data": {
      "text/plain": [
       "'Player 2'"
      ]
     },
     "execution_count": 14,
     "metadata": {},
     "output_type": "execute_result"
    }
   ],
   "source": [
    "choose_first()"
   ]
  },
  {
   "cell_type": "markdown",
   "metadata": {},
   "source": [
    "### Step 6: Write a function that returns a boolean indicating whether a space on board is freely available"
   ]
  },
  {
   "cell_type": "code",
   "execution_count": 15,
   "metadata": {},
   "outputs": [],
   "source": [
    "def space_check(board,position):\n",
    "    return board[position]==' '"
   ]
  },
  {
   "cell_type": "markdown",
   "metadata": {},
   "source": [
    "### Step 7: Write a function that checks if board is full, True if full, false if otherwise"
   ]
  },
  {
   "cell_type": "code",
   "execution_count": 16,
   "metadata": {},
   "outputs": [],
   "source": [
    "def full_board_check(board):\n",
    "    \n",
    "    for i in range(1,10):\n",
    "        if space_check(board,i):\n",
    "            return False\n",
    "     #Board is full if we return true   \n",
    "    return True\n",
    "    \n",
    "    "
   ]
  },
  {
   "cell_type": "markdown",
   "metadata": {},
   "source": [
    "### Step 8: Write a function that asks for players next position(number 1-9) and then uses the function in step 6 to check if its a free position. If it is, then returnhe position for later use. "
   ]
  },
  {
   "cell_type": "code",
   "execution_count": 17,
   "metadata": {},
   "outputs": [],
   "source": [
    "def player_choice(board):\n",
    "    \n",
    "    position=0\n",
    "    \n",
    "    while position not in [1,2,3,4,5,6,7,8,9] or not space_check(board,position):\n",
    "        \n",
    "        position= int(input('choose a position:(1-9)'))\n",
    "        \n",
    "    return position"
   ]
  },
  {
   "cell_type": "markdown",
   "metadata": {},
   "source": [
    "### Step 9: Write a function that ask player if they want to play again and returns a boolean True, if they want to play again"
   ]
  },
  {
   "cell_type": "code",
   "execution_count": 18,
   "metadata": {},
   "outputs": [],
   "source": [
    "def replay():\n",
    "    \n",
    "    choice = input('Play again? choose Yes or No').lower()\n",
    "    \n",
    "    return choice=='yes'"
   ]
  },
  {
   "cell_type": "markdown",
   "metadata": {},
   "source": [
    "### Step 10: Hard Part: Use while loops and the functions created to run the game."
   ]
  },
  {
   "cell_type": "code",
   "execution_count": null,
   "metadata": {},
   "outputs": [
    {
     "name": "stdout",
     "output_type": "stream",
     "text": [
      "WELCOME TO TIC TAC TOE\n"
     ]
    }
   ],
   "source": [
    "# WHILE loop to keep running the game\n",
    "\n",
    "print('WELCOME TO TIC TAC TOE')\n",
    "\n",
    "\n",
    "while True:\n",
    "    \n",
    "    #PLAY THE GAME\n",
    "    \n",
    "    # Set Everything up (BOARD, WHOS FIRST, WHAT MARKER X or O)\n",
    "    the_board = [' ']*10        # Setting empty board\n",
    "    player_1_marker,player_2_marker=player_input()    # Assigning player markers\n",
    "    \n",
    "    turn = choose_first()                             # Who plays first\n",
    "    print(turn + ' will play first')\n",
    "    \n",
    "    play_game= input('Ready to play: y or n')         # Ask players are ready to play\n",
    "    \n",
    "    if play_game=='y':\n",
    "        game_on = True\n",
    "    else:\n",
    "        game_on = False\n",
    "    \n",
    "    \n",
    "    ## GAME PLAY\n",
    "    \n",
    "    while game_on:\n",
    "        \n",
    "        if turn=='Player 1':\n",
    "            \n",
    "            # Show the Board\n",
    "            display_board(the_board)\n",
    "            # Choose a position\n",
    "            \n",
    "            position = player_choice(the_board)\n",
    "            \n",
    "            \n",
    "            # Place a marker on position\n",
    "            place_marker(the_board,player_1_marker,position)\n",
    "            \n",
    "            # check if player won\n",
    "            \n",
    "            if win_check(the_board,player_1_marker):\n",
    "                \n",
    "                display_board(the_board)\n",
    "                print('Player 1 Won !')\n",
    "                game_on=False\n",
    "            \n",
    "            else:\n",
    "                if full_board_check(the_board):\n",
    "                    \n",
    "                    display_board(the_board)\n",
    "                    print('TIE GAME !')\n",
    "                    game_on=False\n",
    "                else:\n",
    "                    turn ='Player 2'\n",
    "                    \n",
    "        \n",
    "        \n",
    "        else:\n",
    "            # Show the Board\n",
    "            display_board(the_board)\n",
    "            # Choose a position\n",
    "            \n",
    "            position = player_choice(the_board)\n",
    "            \n",
    "            \n",
    "            # Place a marker on position\n",
    "            place_marker(the_board,player_2_marker,position)\n",
    "            \n",
    "            # check if player won\n",
    "            \n",
    "            if win_check(the_board,player_2_marker):\n",
    "                \n",
    "                display_board(the_board)\n",
    "                print('Player 2 Won !')\n",
    "                game_on=False\n",
    "            \n",
    "            else:\n",
    "                if full_board_check(the_board):\n",
    "                    \n",
    "                    display_board(the_board)\n",
    "                    print('TIE GAME !')\n",
    "                    game_on=False\n",
    "                else:\n",
    "                    turn ='Player 1'\n",
    "\n",
    "\n",
    "    if not replay():\n",
    "        break\n",
    "# Break out of the while loop on replay()"
   ]
  },
  {
   "cell_type": "code",
   "execution_count": null,
   "metadata": {},
   "outputs": [],
   "source": []
  },
  {
   "cell_type": "code",
   "execution_count": null,
   "metadata": {},
   "outputs": [],
   "source": []
  }
 ],
 "metadata": {
  "kernelspec": {
   "display_name": "Python 3",
   "language": "python",
   "name": "python3"
  },
  "language_info": {
   "codemirror_mode": {
    "name": "ipython",
    "version": 3
   },
   "file_extension": ".py",
   "mimetype": "text/x-python",
   "name": "python",
   "nbconvert_exporter": "python",
   "pygments_lexer": "ipython3",
   "version": "3.7.1"
  }
 },
 "nbformat": 4,
 "nbformat_minor": 2
}
